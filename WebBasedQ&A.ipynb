{
  "nbformat": 4,
  "nbformat_minor": 0,
  "metadata": {
    "colab": {
      "provenance": [],
      "gpuType": "T4",
      "authorship_tag": "ABX9TyPwnNZRTP6mxxnwcVTizQU3",
      "include_colab_link": true
    },
    "kernelspec": {
      "name": "python3",
      "display_name": "Python 3"
    },
    "language_info": {
      "name": "python"
    },
    "accelerator": "GPU"
  },
  "cells": [
    {
      "cell_type": "markdown",
      "metadata": {
        "id": "view-in-github",
        "colab_type": "text"
      },
      "source": [
        "<a href=\"https://colab.research.google.com/github/vij37vibhor/queryWeb/blob/main/WebBasedQ%26A.ipynb\" target=\"_parent\"><img src=\"https://colab.research.google.com/assets/colab-badge.svg\" alt=\"Open In Colab\"/></a>"
      ]
    },
    {
      "cell_type": "markdown",
      "source": [
        "# 1. Installing Dependencies\n",
        "\n",
        "\n"
      ],
      "metadata": {
        "id": "NajFiVMYvKqn"
      }
    },
    {
      "cell_type": "code",
      "source": [
        "!apt-get install -y wkhtmltopdf\n",
        "!pip install fastapi uvicorn pyngrok pdfkit requests beautifulsoup4 PyPDF2 llama-index python-dotenv\n",
        "!pip install llama-index llama-index-core transformers llama-index-llms-huggingface llama-index-embeddings-huggingface\n",
        "!pip install -U bitsandbytes accelerate transformers\n",
        "!pip install python-multipart\n",
        "!pip install fastapi uvicorn python-dotenv pyngrok nest_asyncio"
      ],
      "metadata": {
        "collapsed": true,
        "id": "2GPIIDnmbDKN"
      },
      "execution_count": null,
      "outputs": []
    },
    {
      "cell_type": "markdown",
      "source": [
        "# Importing Dependencies\n",
        "Dependencies from Core Llama Index (LI), LI LLM, embeddings, transformers and torch  "
      ],
      "metadata": {
        "id": "b3wbZFA7vHtJ"
      }
    },
    {
      "cell_type": "code",
      "source": [
        "from llama_index.llms.huggingface import HuggingFaceLLM\n",
        "from llama_index.core import SimpleDirectoryReader, VectorStoreIndex, ServiceContext\n",
        "from llama_index.embeddings.huggingface import HuggingFaceEmbedding\n",
        "from transformers import AutoTokenizer, AutoModelForCausalLM\n",
        "import torch\n",
        "from transformers import BitsAndBytesConfig\n",
        "from llama_index.core.settings import Settings"
      ],
      "metadata": {
        "id": "wvXyxhFlaUnp"
      },
      "execution_count": 2,
      "outputs": []
    },
    {
      "cell_type": "markdown",
      "source": [
        "# LLM Configuration\n",
        "This snippet contains the LLM model, its configuration that we have used. You can change the model to be used by updating it in *Line#1 - MODEL_NAME*, for embedding used, change *model_name* in Line#26.\n",
        "\n",
        "**NOTE**: If you are running into  memory constrains while executing the file, it is recommended to run on colab with a T4 runtime."
      ],
      "metadata": {
        "id": "3qPKCMsNwBoC"
      }
    },
    {
      "cell_type": "code",
      "source": [
        "MODEL_NAME = \"mistralai/Mistral-7B-Instruct-v0.3\"\n",
        "\n",
        "tokenizer = AutoTokenizer.from_pretrained(MODEL_NAME)\n",
        "\n",
        "bnb_config = BitsAndBytesConfig(\n",
        "    load_in_4bit=True,\n",
        "    bnb_4bit_compute_dtype=torch.float16,\n",
        "    bnb_4bit_use_double_quant=True,\n",
        ")\n",
        "\n",
        "model = AutoModelForCausalLM.from_pretrained(\n",
        "    MODEL_NAME,\n",
        "    quantization_config=bnb_config,\n",
        "    device_map=\"auto\"\n",
        ")\n",
        "\n",
        "llm = HuggingFaceLLM(\n",
        "    context_window=4096,\n",
        "    max_new_tokens=512,\n",
        "    model_name=MODEL_NAME,\n",
        "    tokenizer=tokenizer,\n",
        "    model=model,\n",
        "    generate_kwargs={\"temperature\": 0.7, \"do_sample\": True},\n",
        ")\n",
        "\n",
        "embed_model = HuggingFaceEmbedding(model_name=\"BAAI/bge-small-en-v1.5\")\n",
        "\n",
        "Settings.llm = llm\n",
        "Settings.embed_model = embed_model"
      ],
      "metadata": {
        "id": "ukQEdvadcBai",
        "collapsed": true
      },
      "execution_count": null,
      "outputs": []
    },
    {
      "cell_type": "markdown",
      "source": [
        "# Index.html\n",
        "Here we are writing the index.html file that will serve as the landing page for our app, executing the cell will load and reload the file in colab env. This contains the styling of our form displayed on the app."
      ],
      "metadata": {
        "id": "abwaPMtmw2WN"
      }
    },
    {
      "cell_type": "code",
      "source": [
        "%%writefile index.html\n",
        "<!DOCTYPE html>\n",
        "<html lang=\"en\">\n",
        "<head>\n",
        "    <meta charset=\"UTF-8\">\n",
        "    <meta name=\"viewport\" content=\"width=device-width, initial-scale=1.0\">\n",
        "    <title>Query from Webpage</title>\n",
        "    <style>\n",
        "        body {\n",
        "            font-family: Arial, sans-serif;\n",
        "            background: url('data:image/png;base64,iVBORw0KGgoAAAANSUhEUgAAAgAAAAIACAYAAAD0eNT6AAAABHNCSVQICAgIfAhkiAAAAAlwSFlzAAAOxAAADsQBlSsOGwAAABl0RVh0U29mdHdhcmUAd3d3Lmlua3NjYXBlLm9yZ5vuPBoAACAASURBVHic7N13eFRl3sbx70wKIY1eEpAiVXpvUgQsVBUVFMECumJ9XV111bV3dNW1d0EFEQREFFEBQXonhB46hBIINb3NvH+M7FoogTxnzsyc+3NdcykhuZ+fGDL3nDnnOSAiIiIiIiIiIiIiIiIiIiIiIiIiIiIiIiIiIiIiIiIiIiIiIiIiIiIiIiIiIiIiIia5LM53A82ATsAFQAOgFlABiAFKWby+nNkBYBvwHTAO2G7vOH9RGbgB6AM0BqoA+cAWYCHwNTAD8No14ElUAYYAl+P7nq+M7++C2KMQyACOAjuBFGATsBhY+tvvi4gBUcBAfD+Y0/H9YNYjOB55wBtA7F/+r/pfBPAckMWZ514KtLZnzD+IAJ4CMrH//6UexXtkAD8AtwJl/vJ/VESKpT7wHnAE+/9S61Gyx2p8R2rsUgHfq7OzmTkPuMmOYX9TAZiDNf8/9PDPIwffUbD2iEixNAG+wncYze6/wHqYe6QA5fC/aGDlOczrBYrwHX3ytyhg0TnMq0fgPmYAXRGRk4oHXgcKsP8vqx7WPKbgf++VYF4vcAyo6eeZ3y7hzHoE7mMckIiI/FdvYA/2/+XUw/pHd/ynMWaOJH3ux5kbohIc6o9jwN8Qcbhw4CXAg/1/KfXwz2Mq/lPSV/8nHoX4zsT3h3cMzaxH4D++BOIQcaAywGzs/0uoh38f2fgu2fSHfQbnvtUP87qA3QZn1iPwHxuw9wRZEWOKe21yVXxP/hdZN4oEqNL49nCwWjV832em+OOywCpAdT+sI4GjIb4TPlvYPYhISRWnACQA84GWFs8igcsfJ0ElBHjeyZgsLBI8TrwgUgmQoHamnQBPHPbXk7+DvT7xW7r07mvpGutXLOfGrh2M5XXp3ZfXJ35rLO9kNq9dw+D2+qvhYAeBzvgumRUJOqc7AhCB7wQw/YRzuEoJ1h8AqJhg9gW7X2auqgMADlcJ3y6C5e0eRORcnK4AvIA2wnC86NhYzm9o/SkAlROrUaX6ecbymnXoaCzrVMpVrERirdqWryMBrQ6+y06tvq+KiHGnKgD9gH/4cxAJTB0uvpTIqCi/rNWtb38jORGRkXS6tJeRrDO5qN/lfllHAlpf4H67hxA5WycrAPHAB6jROp7L5WLoPff5bb3r7ribsPDwEuf0v+FmyleqbGCiM7vuznuILKWbWgov4Lvzo0jQCDvJx14GLvb3IBJ4+lw3hOvuusdv65WpUIHc7GxWL1pwzhnlK1fhxc+/JDrWPzc0jCtblpysbJJKMLOEhDB8BeALuwcRKa4/F4CmwCfo3uWOV69JU14ZN5GIyEi/rtuqcxeSFy9k784dZ/21kVFRvDJuInUbNzU/2Gm07tKN5CWL2LNju1/XlYBTB1iLb7MgkYD35wLwFr4SIA7WvGMn/jNpKvHl/H9yc1hYGD2uGMCWdWvZtWVzsb8uNr4Mr4ybSPvuPS2c7uTcbjfdL7+SrRvWs3OzrghzuIb43kIVCXi/LwAN8O1rrvf+HSo6NpbhDz3Cv97+gNgyZWybIyKyFJdecy3lKlZkzdIl5OXmnvJzXS4XXfv04/WJ39KwRSs/TvlHEZGluOTqQZStUIH1K5aTm5Nt2yxiqyrAKmCT3YOInMnvn+zfB0bYNYj4X+mYGConVqf6+efTtU8/elx5FeUqVrJ7rD/Iycri54njWfDzj6Qkr+bYoUNERUdT9bzzaN3lIi4deC31mzaze8w/yMo4zi/ffsPcad+xMyWFtD2pZGUct3ss8Z956BJqCQInCkAUvhuxlLVyseYdO9Gt3+W0734xlRISKFepMi6XDjiIiHWOHznMwX37SFo4n1+/n8qS2bMoKiy0ckkvUA/YauUiIiV14tl3EDDeqkVade7C3c+8SLP25rZ6FRE5Fzs3b+Ldp5/glymT8Xq9Vi3zNPCUVeEiJpwoABOAgabD3W43tz/xNMMeeFiv9EUkoPw04SueufNv5OXkWBG/Fp1QLQHOhe+SvzSgoslgt9vNc6PGcOk1g0zGiogYs275Mm7vczE5WVmmo7347kiZZjpYxBQ30AzDT/4Adz39nJ78RSSgNW7Tlpe++Ap32Mn2RCsRF9DddKiISWHAlfj2/jemVZeuPP7OhyYjRUQsUaNuPQ7u28eGVStMR+8DppsOFTHFjW/jCmNcLhd3P/2CyUgREUvd/vhTxMTFm47VvQEkoLkx/E3arENHne0vIkGlfKXKVrxlafTFlYhpbqCWycDul19pMk5ExC8s+NlVHSj57S1FLOLGd/tfY1p17mYyTkTEL1p1Nr55nxuIMx0qYorxAlA5MdFknIiIX0RFRxNftpzpWP/cl1rkHLiBaJOBgbaXvIhIcZWvXMV0pI4ASMBy//YwJixcb3mJSHAKCze+H4DRn68iJumbU0RExIFUAERERBxIBUBERMSBVABEREQcSAVARETEgVQAREREHEgFQERExIFUAERERBxIBUBERMSBVABEREQcSAVARETEgVQAREREHEgFQERExIFUAERERBxIBUBERMSBVABEREQcSAVARETEgVQAREREHEgFQERExIFUAERERBxIBUBERMSBVABEREQcSAVARETEgVQAREREHEgFQERExIHC7R5AJCcri707d7Bnx3b27dxB+v79HEk/yLHDh8jKyCDz2FG8Xi9FhYWEhfu+ZSMiIykdE0uZChUoW74CZcpXoEr16iTWrEVCjZok1qz1388VEZG/0k9I8ausjOMkL1nM2mVL2LwmmZQ1yezdsR2Px2N0nchSpajd8ALqNWlG/WbNada+Iw1btCQ8IsLoOiIiwUoFQCyVn5dH0sL5LPj5R5b+MpOtG9bjKSryy7qbViexaXUSjPV9LCo6msat29Lh4ku48NLe1GvaDJfLZfksIiKByAV4TQYuzyo0GSdBKDc7m/k//sDPkyawaMZP5GRl2T3SSVVKSKT7FQO45KqBNO/YCbdbp8Q43bVtm7N1/TqTkU2BtSYDRUxRARBjVi2YzzejPmb21G8C9kn/VCpXq07fwUO58ubhVKt9vt3jiE1UAMRJVACkRLIzM/nui9FM/OgDtm/aYPc4JeZ2u2nTrTvX3XE3nXv31VEBh1EBECfROQByTg6l7WfcO28x+ZMPOX70iN3jGOPxeFg6exZLZ8+iZr0GDPm/v9NvyI1Elipl92giIkbpCICclWOHD/H5668y/v23yc3Otnscv6hS/TyG/t99XH3rCBWBEKcjAOIkOr4pxZKXk8MnI5+n/wV1+ey1lx3z5A+QlrqbVx+6n0FtmjHrm0l2jyMiYoQKgJzRzxMncHXLxrz3zJNkZ2bYPY5tUrdt5Z9Dr+W2Xj1ISV5t9zgiIiWiAiCntHfnDu65og+P3nQ9+3fvsnucgLFy3lxu6NKefz94H9mZmXaPIyJyTlQA5C+8Xi/j33ub69q1YNHMn+0eJyAVFRby1btvMaRTG1bOn2f3OCIiZ00FQP7g8MED3HfNFbzywN/16rYYdm/dwohePfj3g/dRkJ9v9zgiIsWmAiD/teCn6Qxq3Yz5P/5g9yhBxev18tW7b3FLzy7s3bHd7nFERIpFBUDwer189trL3HfNFRw9lG73OEFr/coVDO7Qml+/n2r3KCIiZ6QC4HDZmRncP/BK3nr8UeN35HOirIzjPDj4Gkb9+yW7RxEROS0VAAc7uG8vt13Wg3nTp9k9SkjxeDy88+RjPD3iFgoLCuweR0TkpFQAHGrr+nXc1K0TG5NW2T1KyPpuzGfce1V/nUwpIgFJBcCBNiatYkSvnhzYk2r3KCFvyS8zub13T44dPmT3KCIif6AC4DDJixdxe++LdbKfH61fuYI7+l7KkfSDdo8iIvJfuhugg6xfsZx7ruxLVsZxu0c5qejYOGrVr0+NuvWp1aABlRISiYmLJyY+nuiYWKKio/F4PGRnZpCdmUlOVhbHjxxm365d7Ny8iZ0pKaRu3xqQ1+OnJK/mrv69eH/6TOLLlrN7HBERFQCn2Lx2DXdf0Segnvyrn1+Htt2606brRbTodCFVqp9X4syiwkJ2bk5h+dw5LP91NivmzQ2Yw+8pyau5d0A/3vnuR6Jj4+weR0QcTrcDdoC9O3dw80UXcvhAmt2j0LhNW/pefwNd+/Sj6nk1LF/P4/GweU0yMydP5IevxpKWutvyNc+kfY+LeWPyd4RHRNg9ivyJbgcsTqICEOKOHz3CLT26sn3TBttmqFytOn0HD6XvkKHUqt/Qtjk8Hg8r5v3KtLFfMGvKJHKysmyb5fIbh/HEex/Ztr6cnAqAOIkKQAgrLCjg7st7s3zuHFvWr1G3Hjf/4yH6DB4acK92jx5KZ9w7bzHh/XfIOHbUlhnuevo5hj3wsC1ry8mpAIiT6CqAEPbmYw/b8uRfp1FjXhg9lokr13L5jcMC7skfoGyFitzxxNN8t3Erdz71LGXKV/D7DO89/QQLZ/zk93VFREAFIGT9NOErvnz7Db+uWTomhnuefYEvF63g0oHX4g4L8+v65yI2vgzDH3yEb9Zs5Lo77/HrzB6Ph8duHkrqtq1+W1NE5AQVgBC0a3MKz909wq9r9ho0mG+SN3LT/Q8RFh58F5fEly3HA6+8zqez5tGgeQu/rXv86BEevel6bRksIn6nAhBiCgsKeGz4DX47wa1cxUq8OWUaz436gopVE/yyppWatG3HF/OWcOeTz/ityKxfuYL3n33KL2uJiJygAhBiPnz+GdavXOGXtVp16cqXi1fQ6ZLL/LKev7jDwhj+0KO8N20GlROr+WXNz19/hZXz5vplLRERUAEIKRtWreSz11+xfB23280t//wX70+bQaWERMvXs0urzl0Yu2i5XwqOx+PhmTv/Rm52tuVriYiACkDIKCos5Pm7R1BUaO1lmBGRkTz7yefc8cTTQXGSX0mVq1iJ/0yaytW3Wn9OReq2rXz4wrOWryMiAioAIWPsW69bfmvf6NhYXp/4LZcNus7SdQKNOyyMR954h7898rjla41963VS1iRbvo6IiApACDiUtp+PX3rB0jXKVqjIe9Nm0KHnJZauE8hGPPYk/3z9Ldxu6/7aFBUW8uqD91mWLyJyggpACHjnycfIzsywLD8mLp63p06ncZu2lq0RLAbedgcP/+dtS9dYMe9Xfpky2dI1RERUAILc5rVr+H7s55blR5YqxasTJtOwRUvL1gg2V91ym+VvB7z5+CPaG0BELKUCEOTef/ZJPB6PJdlut5tnPv6MNl0vsiQ/mI147EmuveNuy/JTt21l6hejLcsXEVEBCGLrVyxn7rTvLMu/9/mRXHzVNZblB7t/jHzV0ksEPxn5Avl5eZbli4izqQAEsY9HPo/Xa/Rmjv/Vrd/lXH/P3y3JDhXusDCe/ni0ZZsFpaXu5vsxn1mSLSKiAhCkdm1OYf70aZZkV6l+Hk+89xEul8uS/FBSrmIlRo6dYNkdD8e8+bplb/GIiLOpAASpsW+/YckTQ3hEBCPHjLfl9rjBqmm79ox47ElLsndt2Wzp2zwi4lwqAEEo49hRpn35hSXZQ+65jyZt21mSHcpuuu9BLmjZypLs8e9Ze9mhiDiTCkAQmj5urCV7xlepfh63/PNR47lO4A4L45E337Nkk6Dlc+ewa8tm47ki4mwqAEFoymefWpL74L//Q3RsrCXZTtCoVWuuvPkW47ler5epn482nisizqYCEGQ2rU4iJXm18dzOvfpwUf8rjOc6zd3PPE/ZChWN50778gudDCgiRqkABJmfvh5vSe6Ix56yJNdp4suV5/p77jWee3DfXpIWLjCeKyLOpQIQZH751vwe8Z179bHsBDYnuvb2u4gvW8547oxJE4xniohzqQAEkY1Jq0jdttV47vAHHzGe6WQxcfEMuv0u47m/fPuNZRs/iYjzqAAEkYU/Tzee2abrRTTr0NF4rtMNvuse4ydUHkrbz6bVSUYzRcS5VACCyIKffzSeec3fbjeeKVCmfAUuvmqg8dyFM8x/D4iIM6kABInM48dYu2yp0cy4MmXp2qef0Uz5n37X32A8c/GsGcYzRcSZVACCRPKSxRQVFhrNvOSaQURGRRnNlP9p2bkLibVqG81cu3SJ7hAoIkaoAASJ5MWLjGf2HTzUeKb8j8vlove11xvNzM/LY2PSKqOZIuJMKgBBInmJ2QJQKSFRJ//5Qc8BVxvPXL1Y+wGISMmpAAQJ07v/te3WXbf79YN6TZpSrmIlo5kpq83vBCkizqMCEAQO7N3D0UPpRjPbdLvIaJ6cnMvlonXXbkYzN69NNponIs6kAhAEtqxbazyzTbfuxjPl5Noa/rPeuTmFgvx8o5ki4jwqAEFgZ8omo3mJNWuRWLOW0Uw5NdNHWwry89m7c7vRTBFxHhWAILBv106jeXUbNzGaJ6d3Xp16xi+33LvT7PeEiDiPCkAQ2Ltzh9G8WvUbGs2T03O73dSoU9do5j7D3xMi4jwqAEEgLXW30bwa9eoZzZMzq1m/gdG8/bvNfk+IiPOoAASBI+lmrwDQEQD/q1nPbAEwfVWIiDiPCkAQOHb4kNG8xJo1jebJmVWvbXZLYBUAESkpFYAAl5+XR05WltHM2DJljObJmcXGm/0zP2q4FIqI86gABLjcnGyjeW63m6joGKOZcmalY2ON5uXl5BjNExHnUQEIcAWG7/wWFR2D263/7f4WExdvNM/094WIOI+eCQKc6R3fYuLijOZJ8Zj+c8/P006AIlIyKgABzuPxGM1zh4UZzZPiiYiIMJrn9XqN5omI86gABLiIyEijeTmZmUbzpHhyDb9nHxVd2mieiDiPCkCAiyxVymheVmaG0TwpHtMFoHSMTuQUkZJRAQhwkaXM7iFfVFioM8htkJtt9lLOqNLRRvNExHlUAAJc6ZgY428D6CiA/6Xv32c0LypaBUBESkYFIAiUKV/BaN7BvXuN5smZHdi7x2hedIzZfQVExHlUAIJAmfLljebtTNlkNE/O7MAeswWgcrXqRvNExHlUAIJApYREo3k7t6QYzZMz27Fpo9G8hBo1jOaJiPOoAASBxJq1jObtTFEB8Lct69YazUuooRs6iUjJqAAEgQTDd+/btnG90Tw5vUNp+zl88IDRzKrn6QiAiJRMuN0DyJmdd35do3lb1q0l49hR4sqUNZobLLZtWM+86d+zdd060tP2E1mqFBWrJtCqcxc6XdqLshUqGl1v3fJlRvNABUBESk4FIAjUbdLEaJ6nqIhV8+fRtW9/o7mBbt3yZbz9xKMs+3X2SX9/yuhPiCxViqtvHcEt/3zUWBFYPu9XIzknJNasRbThuwuKiPPoLYAgUKNOPUqVNrv16/K5c4zmBbrJn37E8J5dTvnkf0J+Xh7j3nmTwe1bGXvlvvwMa56tRq3bGM0TEWdSAQgC7rAw6lzQyGjmsjm/GM0LZO898yQv3HMHRYWFxf6ag/v2cluvHiya+XOJ1j58II0ta9eUKOPPGrZoaTRPRJxJBSBINGnXwWjelnVr2btzh9HMQDRz8kQ+ffmFc/ravJwc/nHtVSUqAbOnTjF+R8dGrXQEQERKTgUgSDRv39FontfrZfpXY41mBpr83Fxee/iBEt06Nz83l/sHXsm86dPO6etnTPr6nNc+GZfLxQWtWhvNFBFnUgEIEs07djKeOW1caBeAKaM/4cCe1BLnFOTn88+h1571kYCD+/aycsG8Eq//e3UaNXbs1RsiYpYKQJCoel4Nzqtj9nLAXZtTWLN0idHMQDJrymRjWedyJGDK6E/wFBUZmwGg06W9jeaJiHOpAASRCy8z/8P/288+NZ4ZCIoKC1m9eKHRzLM5EuApKmLKaPN/thde1st4pog4kwpAEOl0qfkf/j+MG2P8TnWB4PDBAxQWFBjPzc/NLdaJgXO++5a01N1G146Ji6d5B/NvBYmIM6kABJE2XboRExdvNDM/L48xb7xmNDMQ5OXkWJZ9phLg9Xr55ByvPDid9j16Eh4RYTxXRJxJBSCIREZF0a3f5cZzvxn1MUfSDxrPtVP5ylUszT9dCZg3fRqbVicZX/Oiy680nikizqUCEGQuvWaQ8cycrCy++E9oHQWIjo21/I55JysBHo+HD557yvhaMXHx9Lh8gPFcEXEuFYAg077HxZSvVNl47lfvvsnOzZuM59qpc68+lq/x5xIw9fNRlrz6v+TqgURFRxvPFRHnUgEIMhGRkfQbcqPx3Py8PEb+/R7juXa6+tYRuN3Wf4ufKAEzJ0/k3aefsGSN/kNvsiRXRJxLBSAIXXnzcFwul/HcpXN+4acJXxnPtUvdxk3ofd0Qv6yVn5vLwzdcx+EDacaza9StR7MOZneCFBFRAQhCNerVp+1FPSzJfv2RBzl6KN2SbDs89NobnN/Q7I2U/G3gbXdYUvhExNlUAILU0HvvtyQ3ff8+nvzbsBLtnx9IYuLiee3rb6icWM3uUc5JmfIVuPLmW+weQ0RCkApAkOp0yWXUb9rMkuwFP03ni//825JsO1Q/vw7vT58ZlCXg2tvvonRMjN1jiEgIUgEIYjfc94Bl2e889TjJixdZlu9vNerWC7oSEBUdzaDb77R7DBEJUSoAQeyya6617P3tosJCHhoyiD3bt1mSb4dgKwFX3nwLZStUtHsMEQlRKgBBzB0Wxm3/suayM/CdD3DX5b05lLbfsjX8LVhKQHRsHMMe+KfdY4hICFMBCHI9B1xNk7btLMtP3baVe6/qT1bGccvW8LdgKAG3/PMRKlSpavcYIhLCVACCnMvl4h8vv27pZWIbk1Zx/8ABZGdmWLaGvwVyCUisVZvBd/6f3WOISIhTAQgBTdu1p/e111u6xop5v3LbZT0s2ejGLoFaAu555gUio6LsHkNEQpwKQIi494WRxJcrb+kaG5NWccvF3XRioIXade/JxVddY/cYIuIAKgAhokKVqvz9xZctX2f31i0M79lVlwhaIDo2jsff/VC7/omIX6gAhJD+Q2+iQ89LLF/nUNp+/nZZdz5//ZWQ2TEwEErA318YafktjEVETlABCCEul4snP/iEMuUrWL5WUWEhbz72CHf17xUy5wXYWQLaduvOgOF/8/u6IuJcKgAhplJCIo+984Hf1ls6exZDOrXl54kT/LamlRJq1KRr3/5+X7f34CE69C8ifqUCEIK6X34lA2+7w2/rHdy3l0dvup47+13Gzs2b/LauacvnzuH6Dq2Z+NH7fl/7pb/fzcIZP/l9XRFxLhWAEHX/yFdp1r6DX9dcOnsW17VryZuPPcKR9IN+Xbsktq5fx4ODr+GOPpewfdMGW2bIz83lgeuuVgkQEb9RAQhREZGRjBw7we+7yRXk5/P5669weaO6vPbwAxzct9ev65+NbRvW8/jwGxncviWzp06x/YRGlQAR8ScXYPSn3vKsQpNxUkLrV65gRK8e5GRl2bJ+ZKlS9BtyI5ffOMzSLYuLy+PxMH/6NL56722WzfnF9if9k4mMiuLV8ZPpePGldo/iONe2bc7W9etMRjYF1poMFDFFBcAB5v/4A/cPGoCnqMjWOWrWa8BlA6+lz+AhVD+/jl/X3rZhPTMnT+T7L79g747tfl37XERERvLyl1/TpXdfu0dxFBUAcRIVAIeY/MmHvHjvXQHxitftdlO3SVPadOtO227dad2lK9GxcUbXOHoonWVzZrN09iyWzJ4VFE/6f6YjAf6nAiBOogLgIGPffJ3XH3nQ7jH+Iiw8nPpNm1G7wQXUatCAGnXrU7N+A6pUr05MbBxh4eEn/TqPx8OhtP3s372bA3tS2ZGykU2rk9iUvDpktitWCfAvFQBxEhUAh/n05Rd49+kn7B7jrERGRRETG0d0nO8oQU5WFoX5+WQcOxoQRzSsphLgPyoA4iS6CsBhhj/0KA+99mZQbTqTn5vLkfSD7Nm+jT3bt3H4QBrHjx5xxJM/+P777x94JfOmT7N7FBEJISoADjRoxJ088sY7uMPC7B5FiqkgP59/Dr2WpbNn2T2KiIQIFQCHuuqW2/jPpKnGT74T6+Tn5vLg4IFs27je7lFEJASoADhYp0su4/0fZvh9syA5d1kZx3ny1psd8/aHiFhHBcDhGrVuwxfzl/h922A5dxtWrWTGpK/tHkNEgtzJr68SR6mcWI0PfvyF1x9+gAkfvGv3OEErKjqamLh4DqXtt3ytKaM/4dJrBlm+jpRYdSDb7iEkoGX99sj098K6DFD+YPbUKTx31wiOHT5k9yhBpXGbtjzz8Wjc7jBG9OrJgb17LF0vIjKSWbvTdA6HYRZcBihSXAXANmDTb4/5wK/AMasW1FsA8gfdL7+ScUtW0r7HxXaPEhTCwsO57V9P8OmsedSs14Dz6tTl/ekzqZxYzdJ1C/LzSd0efLsbisgpRQANgMuBB4FvgUPAUuAfQILpBVUA5C8qJ1bj7anTefKDT4gvV97ucQLW+Rc0YtQv87nt0Sf+sFthjbr1/FICjhw8YGm+iNguDGgL/BvYDUwDLjIVrgIgJ+Vyueg/9CYmrlxDn8FDg2rjIKvFlSnLP15+jXGLV9KodZuTfo4/SoAO/4s4ShjQB5gNLAAuKWmgCoCcVvnKVXjm49GMmr0gIG7naye3282AYbcyOXkDg+/6v1Peo+AEq0tAlWrWHmEQkYDVCfgZ+A6oea4hKgBSLE3atmPU7AWMHDOe8xs2snscv3K5XHTt048v5i/lX2+/T7mKlYr9tVaVgJr1GlC5WnWjmSISdPrhu9fErefyxSoAUmwul4ueA67mq2VJPPPJZ9Rp1NjukSzldru59JpBfLl4Ja99PYUGzVucU44VJaDngKuNZYlIUIsFPgImAmXO5gt1GaCcM6/Xy6IZPzHmjddY9uvskNmdLio6mkuvuZab7n+AmvUaGMvdtWUzt/e+uMSXCMbGl+HbdSmUKV/B0GRygi4DlCC3FugFFOuHjAqAGLFz8yamjPqUaV9+weEgPTu9Ues2XHHjMC4bwQxXVAAAIABJREFUdB2x8WdVpIvNRAn419vvM2DYOR3xkzNQAZAQsBdfCVhzpk9UARCjCvLzWTxrBjMmfc2v308lK+O43SOdVmKt2lzU73L633Az9Zo09cuau7Zs5o6+l5KWuvusv3bQiDt56LU3LZhKQAVAQsZBoDOQcrpPUgEQy+Tn5rJ87hwW/Pwji2b8xK4tm+0eibDwcJp36EjnXn3o3LuvbSc0pu/fx0PXDyR5yeJifb7b7eb2J55m2AMP65JMC6kASAhJBS4Edp3qE1QAxG/2797FqoXzSV68iOQli9i2YT0F+fmWrlm+chWatGlLo9ZtaNS6LU3btSeuTFlL1yyuwoICJn/6EZ+MfOG09w9o170ndz/9/Cn3HBBzVAAkxCQDHTnF/ShUAMQ2RYWF7NycwpZ1a0ndtoU9O3awb+cODu7bx7HDhzh6+BCeoqLTZpSOiSE6No6q551HYs1aJJxXk4SaNUmsWYs6jRpT9bwafvqvOXdFhYUkLVrA8l/nsH/3LnJzsilXqTK16tWnc68+JNaqbfeIjqECICFoFDD8ZL+hAiABLePYUYoKC8k6/r9zCWLi44ksVUo74YlxKgASom4CPv/zB3U7YAloJw7Xl61Q0eZJRESC1pvADGDf7z+ojYBERERCWxngxT9/UAVAREQk9N0IdPj9B1QAREREQp8LePz3H1ABEBERcYY+wH+vJ9ZJgCIiFqkeX47IsDC7x5AAVeTxcCArg5zCAn8uey9wA6gAiIhYZvrgu2lSOdHuMSTAHcrJYtb2jUzZtJpJG1aRX2Tp5fQD8N1BMFNvAYiIiNioQukYBjVqzZcDhrPxzicZ0rSdlcvFAFeDzgEQEREJGLXLVmTMlcMYd9UtlA6PsGqZK0EFQEREJOBc17gN06+/h8gwS96pvwgIUwEQEREJQN1q1uODvtdbEV0WaKUCICIiEqBubt6R/vWbWRHdTgVAREQkgL3U40rCXMafrhuoAIiIiASwRpUSuKhWfdOxKgAiIiKBbkDDFqYja6oAiIiIBLiO1WqbjoxXARAREQlwiXFlTUfGqQCIiIgEuMoxcaYjY1QAREREApzb5TIdaf66AhEREQl8KgAiIiIOpAIgIiLiQCoAIiIiDqQCICIi4kAqACIiIg6kAiAiIuJAKgAiIiIOpAIgIiLiQCoAIiIiDqQCICIi4kAqACIiIg6kAiAi8huv12v3CCJ+4wZyTQYeP3rEZJyIiN8cP2L251d0RKTRPBGT3ECGycD0/ftMxomI+IWnqIjDBw8YzYwrFWU0T8Qk4wVgy5o1JuNERPxi64b1eIqKjGbGRZYymidikhsw+pJ9zvffmowTEfGLOd9NMZpXLiqaqPAIo5kiJrmBTSYD5//4A0cPpZuMFBGxVFFhIdPHjzOa2aBCFaN5IqYZLwDZmZl8/NLzJiNFRCw1ZfQn7NqcYjSzYcWqRvNETHMDq0yHTvr4A9YuW2o6VkTEuLTU3bz/7FPGc1tUrW48U8QkN7AAyDMZWpCfzz+uvYq01N0mY0VEjMrLyeHBwddwJP2g8eyetRoazxQxyQ1kA0tMBx9K28/wnl3ZsGql6WgRkRI7uG8vI3r3ZP3KFcazK8fE0bhygvFcEZNO7AT4vRXhaam7GdGrBxM+eJfCggIrlhAROSter5dZ30zihs7tLXursm+9JrhwWZItYsqJ79BEYBcQZtVCNerW47o77qZr3/5UPa+GVcuIiJzU0UPpzP/xB77+8D3WLV9m6Vq/3HAf3WvVt3QNcR7Xs3eYzfvdv/8EXGo0/RRq1KtP5YREKidWIyo62h9LBoTwyEgqVK5MwxataNutO5FR2iXsTPbu2E7SogXs2bGd9P378Xo8do8kQSQ/L49DaftJ25PKjpRNxjf6OZkaZcqz/Z7ncLt0BEDMMl0Awn/37+/gpwKwa3OK8Utugk10bCxXDb+N4Q89THy58naPE3CW/TqbT156nuVz59g9ishZub11Fz35S1Bw/enfk4BmNs3iSGUrVGTk2PG07tLN7lECwoZVK3nnyX+xeNYMu0cROWvloqLZ8X/PE697AIgFTB8B+P3tgL2AdvDxs6OH0rmrfy9+/X6q3aPYatfmFB65cTA3dmmvJ38JWve276Enfwka7j/9+mt8+wKIHxUWFPD4LTeydf06u0fxuwN79/DCPXcwsE0zZkz6Wvdjl6B1Xnw5/tHhYrvHECm2PxcAL3A7oGv2/Cw7M5OR991t9xh+c/zoEd56/FEGNGvI5E8/oqiw0O6RRErkP5cNJFZ3/5Mg8ucCALAWeNXfgwisnD+PpbNn2T2GpXKzsxn175e4olE9PnvtZfJycuweSaTErmjQnKsatrR7DJGzcrICAPA4eivAFjMmfW33CJYoLChg8qcfMaBZQ9558jEyjh21eyQRI86LL8fH/YbaPYbIWQs/xccLgeuBlUAF/40jS0LsCIDH42HGxAm8/9xT7N66xe5xRIyKcIcx4Zq/UTE61u5RRM7aqQoA+HYG7AvMAmL8M46kpe7G4/Hgdp/q4EzwWDp7Fm8+9jAbk4zfcFLEdi5cfNRvKB2q1bZ7FJFzcqZnmSXAteikQL8pKiwkM8gPjycvWcxtvXpwZ7/L9OQvIeu1S6/hpuYd7B5D5Jyd7gjACdPwlYAvAV3g6geeIN3udtuG9bzz1GOO39NAQpsLFy9fPIC/t+9h9ygiJVKcAgDwDdAd310DdU6A/EFa6m4+GfkCUz771C97rYvYJdzt5v0+13NLywvtHkWkxIpbAAAWA13wbRbU2JpxJJgcST/Ipy+/yKSPPyA/L8/ucUQslRBbhi+vGs5FNXWXPwkNZ1MAADYAbYCRwP+ZH0eCQU5WFhM+eIdRr4wk8/gxu8cRsVyPWg0YM2AYCbFl7B5FxJizLQAAucC9wLf47iDY0OhEErAK8vP5bsxnvP/sUxw+kGb3OCKWK186hie69uGett11hz8JOedSAE74BWgJPAjcD5Q1MpEEHE9REdPGjeHD559h366ddo8jYrmo8Aj+1rIzT3XrS/nSugpaQlNJCgD4jgY8C7wB3AX8Hahc0qEkcMz57lvefepxtm1cb/coIpaLjSzFba268EDHi3W4X0JeSQvACceBF4F/A72BG4B+6LLBoLVi3q+8/cSjrFm6xO5RRCwV5nLTo3YDbmjanqsuaEFMhG7oI85gqgCcUABM/e0RDVyI7/LBC4ELgEqG1xPDNq1O4p0n/8XCGT/ZPYqIJcpGlaZ++Sp0qF6bHrUa0K1mfcpGlbZ7LBG/M10Afi8bmPHb44RyQG2gPBAPxBIaRwlexfffErR2bdnM+889xYyJE/B6vXaPczpeYBJ//L5KBJ40tUBiXBme7NrPVJzYKMIdRmxkKcqVjiY2shTnl61I5Zg4u8cSCQhWFoCTOfLbI9Q8T5AWgCPpBxnzxuuMe+eNYLiWfwHwMDD/Tx9vgsECUL50DLe16mwqTkQkIPm7AEiAyM7M4OsP3+OTkS+SnZlh9zhnsgx4FJhp9yAiIqFCBcBhcrOzGf/+23z26iscPxrwB2M2AY8DE/Ed+hcREUNUAByiqLCQbz8fxUcvPMvBfXvtHudMUvFdXvopUGjzLCIiIUkFIMR5vV5mfTOJd595gl2bU+we50wOAy8DbwI5Ns8iIhLSVABC2NLZs3jr8UfYsGql3aOcSRbwNvAScNTmWUREHEEFIAStW76Mt594lGW/zrZ7lDMpAEYBTwH77B1FRMRZVABCyI6Ujbz/7FPM+mZSMFzLPxHfmf1bbJ5FRMSRVABCQFrqbj4Z+QLffj6KosKAP2duJvAQsMruQUREnEwFIIgdO3yIz19/lXHvvkl+bq7d45zJYuARYI7Nc4iICCoAQSknK4sJH7zDqFdGknn8mN3jnMl6fO/x61p+cYy8okI2pu/ncE42hZ4iypeOoV75ysSXCoWdzyVUqAAEkcKCAqZ+MZoPnnuaQ2n77R7nTHbh2yL5E6DI5llELHc8L5dx65Yxds1Slu7ZQV7RH9+Oc7tcNKmcyMALWjOsRUeqxZW1aVIRHxWAIODxePhlymTefvJfpG7bavc4Z5KO77bQbwAB/76ESEl5vF4+WDmPJ+Z8R3p25mk/LzltD8lpe3h+/nTubdedx7r0ITZStx8We6gABLils2fxn0cfIiV5td2jnEkm8A7wAnDc5llE/OJIbjZDvxnFD1vWntXX5RYWMHLhz3y3eQ2TB46gQYUqFk0ocmpuuweQk0tespjbevXgzn6XBfqTfz7wIVAX35369OQvjnAsL4eLx7xx1k/+v7f+4D46j/436w5qGwzxPxWAAPTQkEEM79GZlfPm2j3K6RTh26u/LjACSLN3HBH/KfJ6uGL8e6zct6vEWenZmVw29s3Tvn0gYgUVgAAU4E/84LuWvxVwC7Db5llE/O6VhTP4dedmY3l7Mo4yYtqXxvJEikMFQM7GAqArcAmQbPMsIrY4lJPFC/N/NJ47eeMqo6VC5ExUAKQ41gKDgM7APJtnEbHVf5bMIiPfmgtcnp33gyW5IiejAiCnswPf+/vNga/tHUXEfoUeD58mLbQs/5ftm9h65KBl+SK/pwIgJ7MH3xN/PXxn+HvsHUckMPy0dT17M6zbfdOLl8+Tl1iWL/J7KgDye4fxXcp34ok/4O8sJOJPo1Zb9+r/hM9WL8IT2HfzlBChAiAA2cBIoM5v/8yxdxyRwHMoJ4vvU9ZYvs7OY4eZvWOT5euIqAA4WwG+V/r18L3yP2rvOCKB64vkJX/Z398qo1cv8ss64mwqAM7kxXdSX2N87/XvtXcckcDnzyflSRtWcTRXB+LEWioAzjMTaIPvsj5ddCxSDCv27WJ1Wqrf1sspLGDihpV+W0+cSQXAOZYAPfBt4qOfLCJnYZSFl/4F0priLCoAoW8Dvlf7HYHZNs8iEnTyiwoZv36F39ddmLqNjen7/b6uOIcKQOjaje/9/ab43u/XdUUi5+CbjUm23ahHewKIlVQAQs8hfGf018d3hn+RveOIBLdRNp6R/3nyYoq82odLrKECEDqy+OO1/NZsVi7iIHsyjjJz20bHri+hTQUg+OXje6VfB98rf+v2KRVxmFFJi2x/BW7nEQgJbSoAZuTbsGYRMBrfJj4jgDQbZhAJWV68fJZs/5Pvt5tWcyQ32+4xJASpAJjhz9t3eYEpQDNgGLDLj2uLOMbcnVvYctj+O/PlFhbw1brldo8hIUgFwIwkP60zB+gEDADW+2lNEUfyx41/ikt7AogVVADM+N7i/JVAL6A7sNjitUQcLzM/j0kbVtk9xn8t27uTNQf22D2GhBgVADO+BXZakLsT3/v7bYGfLMgXkZMYv245mfl5do/xB9oTQExTATCjAHjEYN5e4HZ8J/h9COhCYBE/CsQz779IXkKBR9t6iDkqAOaMw3dWfkkcwXcpXz3gA3zFQkT8KOVQGgt3b7N7jL9IyzrOT1t16o+YowJg1gh8ReBsZQMv8b9NfHTNj4hNRq1ehDdAd84elRR4RyYkeKkAmJUPDAHuAY4X4/ML8L3Sr4fvLYQj1o0mImdS5PUwZs1Su8c4pe83r+GgTfclkNCjAmCeF3gbqA38E1jKHw/l5wFrgRfxPfHfju89fxGx2Y9b1pN6PHB7eH5RIePWLrN7DAkRKgDWOQy8DLQHYoHqQCIQhe8OfY9izZUDInKOAuna/1MZHYAnKEpwUgHwj3xgD7DP7kFE5OQO5WTxfcoau8c4o1X7d5O0P9XuMSQEqACIiABj1iwhr6jQaGa5qGiaVE40mgk6CiBmqACIiGDNk+rgJm25teWFxnOtKCviPCoAIuJ4K/ftsuSw+rAWHRnatD2lwsKN5h7KyeKHzWuNZorzqACIiONZsfNfk8qJtEmoSYXSMfSp18R4vt4GkJJSARARR8svKrTkdrvDW3T6778Pa97ReP4PW9ayP7M4242InJwKgIg42jcbk0g3vLlOhDuMoU3b//fXves2oWpsvNE1Cj0exq4N3E2LJPCpAIiIo1lx+L9//WZUio7976/D3W6GNGlnfJ1RSYG/b4EELhUAEXGsPRlHmblto/HcYS3+esh/2O/eEjBl3cF9LN+n/cTk3KgAiIhjjV69iCKv2bttV4mJ57I6jf7y8caVEmiTUNPoWgCjdYMgOUcqACLiSF68lpxJf1PzDkS4w076eyc7MlBS49YtJ7dQdw6Xs6cCICKONG/XFrYcPmg89+bTnPE/pGk7SodHGF3vcE4WU1OSjWaKM6gAiIgjjbLg0HnH6udzQcWqp/z9MqVK079+M+Prak8AORcqACLiOJn5eUzcsNJ4bnGu97fibYCftq5ndwDfxlgCkwqAiDjO+HXLyczPM5pZOjyCgY1an/HzLj2/EefFlzO6tsfrZewa7QkgZ0cFQEQcx4pr/wc2ak3ZqNJn/Dy3y8WQphbsCbB6IV68xnMldKkAiIijpBxKY+HubcZzz+bQ/rDmHXHhMrp+yqEDLE7dbjRTQpsKgIg4yqjVi4y/Uq5dtiJda9Qr9ufXr1CFDtVrG50BdDKgnB0VABFxjCKvx5L3yoe16IjbdXav6K24QdBX65aTXZBvPFdCkwqAiDiGFWfLu10ubmzW4ay/7trGbYiOiDQ6y/G8XL7ZmGQ0U0KXCoCIOIYV1/73rN2QmmXKn/XXxZeKYkDDFsbn0dsAUlwqACLiCIdysvjOgh3zSnIo/3S7Bp6rWds3sf1ouvFcCT0qACLiCGPWLCGvqNBoZplSpbmyBK/ie9ZuQO2yFQ1O5LvHwRjtCSDFoAIgIo5gxaHxku7t78LFUCv2BEgyf6WDhB4VABEJeSv37SJpf6rxXBPb+g5rYX5PgO1H05m3a4vRTAk9KgAiEvKs2PmvSeVE2iTULHFO7bIV6VKjroGJ/kgnA8qZqACISEjLLyrkq3XLjecOb9HJWJYVNwiasG4lGfm5xnMldKgAiEhIm7JpNenZmUYzw91uBjduayxvYKNWxEVGGcsDyCrIY9KGVUYzJbSoAIhISLPi2v/+9ZtRNTbeWF5MRCmuvqClsbwT9DaAnI4KgIiErD0ZR5mxbYPxXCu28bViT4C5O7ew9chB47kSGlQARCRkjV69iCKvx2hmlZh4etVtbDQToGvNutQpV8lophcvnycvMZopoUMFQERC1hcWPPnd1LwDEe4w47kuXNzU/OzvKXAmnyYtNF6CJDSoAIhISJq7azObDqUZz7XiUP0Jw5p3JMxl9sdy6vEjzNmRYjRTQoMKgIiEJCtO/utY/XwuqFjVeO4J1ePLcVGt+sZzdTKgnIwKgIiEnMx8ay6Bs+Lkvz+z4gjDpA2rOJqbYzxXgpsKgIiEnAnrVxjfBKd0eAQDG7U2mnkyV1/QkrJRpY1m5hQW8PX6FUYzJfipAIhIyLHi8P81jVoZf2I+GauKht4GkD9TARCRkLL58AEW7N5qPHdYc3Nb/56JFW8DLEzdxsb0/cZzJXipAIhISLHiVri1ylagW816RjNPp1P182lowcmG2hNAfk8FQERChsfrZcwa809yw5p3xO0ye8veM7mpmfk9AT5PXqw9AeS/VABEJGT8uHUdu48fMZrpdrm4yQ9n///Zjc06GN8TwKqtkSU4qQCISMiw4uS/nrUbUrNMeeO5Z5IYV4ZLzr/AeO7o1YuNZ0pwUgEQkZBwKCeL71KSjef649r/U7nZgq2Bv9mYxKGcLOO5EnxUAEQkJIxds5S8okKjmWVKleaKBs2NZp6NAQ1bUKF0jNHM/KJCxq9bbjRTgpMKgIiEhFGrFxrPvL5JW6IjIo3nFldkWDjXNm5jPFd7AgioAIhICFi1fzdJ+1ON5w5r4b9r/0/Fij0Blu3dyZoDe4znSnBRARCRoGfFyX+NKyXQNrGm8dyz1TaxJs2qVDOeqz0BRAVARIJaflEh49YtM547PABe/Z9wQ9P2xjO/SF5CgafIeK4EDxUAEQlqUzatJj0702hmuNvN9U3aGc0siRuatSfCHWY0My3rOD9uWWc0U4KLCoCIBDUrDv/3q9eUqrHxxnPPVZWYeHrVbWw8V3sCOJsKgIgELat2tguEk//+zIo9Ab7fvIaDho+eSPBQARCRoPXZavN721eJiae3Ba+2S6pfvaZUio41mplfVMi4tebPn5DgoAIgIkHrCwtu/HOjBe+3mxAZFm7JeQkfr1pgPFOCQ7jdA4iInIt5u7ZYcn/7GmXKM3P7RuO5JtQqW8F45poDe0jan0qLqtWNZ0tgUwEQkaBkxc5/APf8ON6S3EA2evUi/lN1oN1jiJ/pLQARCTpZBXlMXL/K7jFCxpg1S4zfR0ECnwqAiASd8etWkJGfa/cYIeNQThbTNq+xewzxMxUAEQk6Vlz773TaE8B5VABEJKhsPnyABbu32j1GyJm+ZS37M4/bPYb4kQqAiASVUUmL8OK1e4yQU+jxMHbtUrvHED9SARCRoOHxehljwbX/4jMqyZorKyQwqQCISND4aet6dh8/YvcYIWvdwX0s27vT7jHET1QARCRoWHXtv/zP6NU6wdIpVABEJCgczsli6qZku8cIeWPXLCWnsMDuMcQPVABEJCiMWbNUm9X4wbG8HL5LUdFyAhUAEQkKOvzvP9pnwRlUAEQk4CWn+W5YI/7x8zadbOkEKgAiEvB0y1r/8ni9jF2jPQFCnQqAiAS0/KJCxq1bZvcYjjNq9UJtuBTiVABEJKBN2bSa9OxMu8dwnJRDB1icut3uMcRCKgAiEtB0Qpp9RmlPgJCmAiAiAWtPxlFmbNtg9xiONX7dcrIL8u0eQyyiAiAiAeuz1Ysp8nrsHsOxjufl8s3GJLvHEIuE2z2AiMjJePFasi1tw4pVqR5X1nhuINh2NJ1tR9KNZo5avYghTdsZzZTAoAIgIgFp/q6tbD58wHjuhKtvpWnlasZzA8Gs7Ru5eMwbRjN/2b6J7UfTqV22otFcsZ/eAhCRgGTFzn/tq9UO2Sd/gB61Gxh/ovbiZYz2BAhJKgAiEnCyCvKYuH6V8dxhLToazwwkLlwMteBw/aikRdoTIASpAIhIwBm/bgUZ+blGM0uHR3BtozZGMwPRsBYdceEymrn9aDrzdm0xmin2UwEQkYBjxbX/V1/QkrJRpY3nBpraZSvStWZd47najyH0qACISEDZfPgAC3ZvNZ47rEUn45mB6ubm5t/q+Hr9SuNHZcReKgAiElCseL+5VtkKXFSzvtHMQDawUSviIqOMZmYV5DFpg/nzMsQ+KgAiEjA8Xi9j1iwxnntz8464XWbfFw9kMRGluPqClsZzrdiXQeyjAiAiAeOnrebvQ+/CxQ1N2xvNDAZWXPEwd+cWth45aDxX7KECICIBw4pr/3vUbsD55Zy3iU2XGnWpU66S0UwvXj5bvdhopthHBUBEAsLhnCymbko2njvMghPigoELFzc172A8d9TqRbo/Q4hQARCRgDBmzVLyigqNZpYpVZoBDVsYzQwmw5p3JMxl9sd86vEjzNmRYjRT7KECICIBwYrD/4ObtCU6ItJ4brCoHl+O7rXMX/2gkwFDgwqAiNguOW0PSftTjeeG+ta/xWHFngCTNqziaG6O8VzxLxUAEbHduHXLjGc2rpRAu8RaxnODzVUXtKRMKbM7IOYUFjBt8xqjmeJ/KgAiYruft20wnumknf9Op3R4BIMatzaeO3P7RuOZ4l8qACJiKy9ektPMHv6PcIdZcle8YGXFlRBJabuNZ4p/qQCIiK0y8/Mo9Ji9rKxPvSZUiYk3mhnMOlY/n4YVqxrN1DkAwU8FQERsFRkWbnybXqde+386NzUzuydAZFiY0TzxPxUAEbFVqbBwEuPKGsurEhNPn3pNjOWFihuatTe6J4DpXQbF/1QARMR2XWuYu3/9Dc3aE+HWq9M/qxZXlkvOv8BYXjcH3V0xVKkAiIjtrmvcxkhOmMvNba06G8kKRbe37mIkx4WLgRe0MpIl9lEBEBHb9a3XlDYJNUucM6RpO+qVr2xgotDUv34zmlauVuKcG5q1d+QNlkKNCoCI2M7tcvF272spFRZ+zhkJsWV4qeeVBqcKPW6Xi4/7DyXcfe4/+ivHxPFiD/05hwIVABEJCO2r1ebj/jfg4uyvCIiJKMWEa24lIbaMBZOFlnaJtfio39Bz+nMuHR7Bt9feQWKc/pxDgQqAiASMoU3bMXnQCOJLRRX7a6rHl2PuTffT+TxzJxKGupubd2T81bcSG1mq2F9Ts0x55t78DzpUq23hZOJPKgAiElCubNCc5BGPc2vLC097Nn9cZBT/7HQp6+94glYJNfw4YWgY2KgV625/gqFN2xF5mrde4iKj+Ffn3iTd9piR8zQkcJjdfUPEHk0AY3cmaVI5kTUjHjcVJyVwMDuTWds3sjh1O4dzs/B4vdQqU4HWCTXoVbcxpcMj7B4xJBzIyuDHretYvncXB7IziHC7SYgtQ+cadelRq8FZHSkQ67ievcNsntE0EXuoAIhIyDNdAPQWgIiIiAOpAIiIiDiQCoCIiIgDqQCIiIg4kAqAiIiIA6kAiIiIOJAKgIiIiAOpAIiIiDiQCoCIiIgDqQCIiIg4kAqAhAKv0TCv0TgRkRLzmv0xB+BVAZBQkGMyLD07y2SciEiJHczKNB2ZrQIgoSDDZNjB7AwKPR6TkSIiJbI345jpyAwVAAkFRguAx+tl1f7dJiNFREpkxb6dpiNVACQk5AKHTAZ+szHJZJyISIlMNv8zabcKgISKjSbDxqxZQm5hgclIEZFzsvPYYWZtN/ojDmCTCoCEik0mw3YfP8KbS2ebjBQROSeP/jKFvKJC07EqABIylpsOfG7edNYd3Gc6VkSk2L5LSWbcWuM/3gCWqwBIqPjFdGBGfi6Xj3+Xg9nGL78RETmj5LQ9DPlmlBV7AGQCS1UAJFRsAvaYDt12JJ2On77M2gN7TUeLiJzSz9s2cNHnr5GRn2tF/FygIMyKZBHSYksxAAAIuElEQVSb1AXamg49kpvNmDVLiYqIoFVCDcLd6s0iYo0judk8Mec77pk+nuzCfKuWeQ1Y7rIqXcQGHYBFVi5Qs0x5bml5IZfXb0bzKtWtXEpEHKLI62Hh7m18u2k1nyYt5EhutpXL5QEJwBEVAAk1m4D6/lgoLjKK6vFlqRwTR4RbB9MEwt1hJMaVoVbZCvSp24TWCTXsHingpR4/wtSUZJLSUtmXccxRl9/mFhayL/MYezOOkuO//+5JwDUAKgASau4C3rZ7CBGAZlWqcV/7ntzQrD1hLr119Hsph9J4dPa3TN6QZMVJbnJq3fCdA6ACICEnCtgKJNo9iMgJDStW5Zlu/bmmUUtc+rHL+HXLGTb1c3++6hWfhcCFJ36h45YSak7slnGZrVOI/E56diZfb1jJj1vXU6dcJWqXrWD3SLZ5f8Vchk/9ggJPkd2jONFwYNuJX6iKSiiKBJKBBnYPInIyl9VpxAvdr6CVw84RmLtrMxd/8Yae/O0xBRjw+w/oCICEoiJgDXATKrkSgLYeOchHKxewLn0vzatUp0J0rN0jWc7j9TLg6/etuK2tnFk2cDlw9PcfVAGQULUTqAm0tHsQkVNZf3AfH6yYx56Mo7RKqEFcqSi7R7LM5I1Jur+GfR4EfvrzB1UAJJTNBK4EKtk9iMipeLxeVuzbxfsr5nIgK4M2iTWJiYi0eyzjnp33A2sPakdNG3wP/P1kv6ECIKGsAJiD762A0PuJKiGlwFPEkj07+HjVArxAq4QaRISFzo/oe3+aQEZ+nt1jOM02oDeQc7LfDJ3vLpGTOwgsAa4Dwm2eReSMcgsLmLV9Ix+tnI8HaJtYM+i3ny70eHhk1hRd7+9f6cDFQOqpPkEFQJxgO7AFuAqdFChBIrsgn5nbNzJ+3QoqxcTRuHJC0O4hcCQ3m5EL//IWtFgnE7gU39VQp6QCIE6x9rfHFehIgASRwzlZTNqwikkbV1EpOo7GlRLsHumsZRfk88qiGXaP4RRHgH7A4jN9YnAfVxI5O5OBvsBxuwcROVtrD+xl0KSPuHDUK8zdtdnucSQw7QQ6AfOL88kqAOI0vwDt8e0TIBJ0FqZuo9tnr3HJmDdYnXbKt3fFeWYDHYGNxf0CFQBxoo34bh08yu5BRM7VzO0baf3Riwyb+jk7jx22exyxTyHwOL4T/vadzRfqHABxqgLgW3x3xWqL9gqQIOTFS1JaKu8un0vq8SO0TaxFbGQpu8f6C50DYJl5+M5rmghnf4mFCoA43Q7gE3znBTQHYmydRuQcFHk9rNi3iw9XziffU0TrhBqUCgucc11VAIxLAe4F/gGknWuICoCI794BC4F3gQNAQ6CcrROJnIP8okLm7Ezh41ULiAwPp2XV8wJiDwEVAGNWAvcDdwGrSxoWnBeViljLBXQBbsS3lbBz790qQa1mmfI83a0/Q5u1I8xlXxFIz86k0qsP2rZ+kNsJTAC+wPDJyyoAIqfnBpoB3fGdYVv/t0dpO4cSORuNKyXwfPcruKJBc1vWVwEotmPAJnwnKi/Ad9XSFqsWUwEQOXsuoCoQC8QDZdAVNU7XC99h2YC+nV/H6ufzYo8r6Vaznl/XtaAAHAOuMRlokwJ8u/YdwXceUro/F1cBEBExozq+y7GGE+C7TV5cuyEjew6gVUINv6xnQQFIR1fulJhetYiImJEKjACaAF9zDpdl+cvM7Rtp8/FLDJr0EZsPH7B7HLGJCoCIiFmbgEH4dpycZfMsp+TFy9frV9L4vWcYMW0sezOO2T2S+JkKgIiINZbh253tEmC5zbOcUoGniA9XzqfeO0/w8KxvOJKbbfdI4icqACIi1pqJb7fJSwjge1BkF+QzcuHP1HnrcUYu/JmcwgK7RxKLqQCIiPjHTKAFvrcHdtg7yqkdyc3m4VnfUO/tJ3hj6S/kFxXaPZJYRAVARMR/PPhOEGyA74TBgD0Db0/GUf7+09c0ePcpPlw5H483YM9plHOkAiAi4n/5wIdAHeBhfNeAB6QdRw8xYtpYmn/4HF+vX2n3OGKQCoCIiH0ygZH4isBIIM/ecU5t7YG9DJr0EZ1H/5t5uyzbnE78SAVARMR+6fiOBDTAd2SgyN5xTm3B7q10/exVLhnzBslpe+weR0pABUBEJHDsxHduQHN85woErJnbN9Lyo+cZNOkjth3x6w62YogKgIhI4FmH72qBTsCvNs9ySh6vbzOhC957mhHTxpKWFbCnMshJqACIiASuRcBF+PYQSLJ3lFPLLyrkw5Xzqfu2bzOh43m5do8kxaACICIS+GYCrfEdFdhq8yynlJmf59tM6G3fZkK52kxIRETEmAjgNmAfvhsOBeyjRpny3g/6DvHuv3+k6eyDJv4gRUREglEs8ARwjAB4sj/do175yv/f3v2zihQHYBz/XmHwZ9Ld1F3V3SXzzWbkLfAOWA3KZpTJbrF4AayiLIarSCJlkAxSJMNhdd3uvb/f1f186uznNz3POXWeowAAwC47Vd2qvrYPwn7QpQAAwG+nq7vV9+YHtAIAAIOdqe63/HdgdlArAAAw2NmWrwdmh7UCAAATbFRPmx/aCgAADLZSXao2mx/eCgAADHa4ZUPgXfNDXAEAgMGOthSBj80PcwUAAAY7WV2rvjQ/1BUAABhstWVM6Fvzw10BAIDB1lrGhH40P+QVAAAYbL1lTGh20CsAADDB+epx8wNfAQCACTaq580PfgUAAAY71DIm9CoFAAAOnD8bAh9SAADgwDnesiHwufEF4O2A8wEAf7Fa3W7shsCTIScDALa0Vt1rzIbAnUFnAgD+0Xr1oL0tABeGnQYA2JZz1aN2P/xftHyRAADsYxvVs3Yn/H/m6R8A/hsrLRsCL9tZAbgx+sYBgJ07Ul2t3rf98L/ZUiQAgP/Usep69amtg/91dXHObQIAe+FEdaV6WG22bAl8r960/I3wcstbAwAAAAAAAAAAAAAAAAAAAAAAAAAAAAAAgH3vF7niYRA+Q81oAAAAAElFTkSuQmCC') no-repeat center center fixed;\n",
        "            background-size: 45%;\n",
        "            background-position: center;\n",
        "            background-repeat: no-repeat;\n",
        "            display: flex;\n",
        "            justify-content: center;\n",
        "            align-items: center;\n",
        "            height: 100vh;\n",
        "            margin: 0;\n",
        "        }\n",
        "        .overlay {\n",
        "            position: absolute;\n",
        "            top: 0;\n",
        "            left: 0;\n",
        "            width: 100%;\n",
        "            height: 100%;\n",
        "            background: rgba(0, 0, 0, 0.6); /* Dark overlay for readability */\n",
        "            z-index: -1;\n",
        "        }\n",
        "        .container {\n",
        "            background: rgba(255, 255, 255, 0.85); /* Semi-transparent white */\n",
        "            padding: 20px 40px 20px 20px;\n",
        "            border-radius: 8px;\n",
        "            box-shadow: 0 0 10px rgba(0, 0, 0, 0.2);\n",
        "            max-width: 500px;\n",
        "            width: 100%;\n",
        "            text-align: center;\n",
        "        }\n",
        "        input, textarea {\n",
        "            width: 100%;\n",
        "            padding: 8px;\n",
        "            margin-top: 5px;\n",
        "            margin-bottom: 15px;\n",
        "            border: 1px solid #ccc;\n",
        "            border-radius: 5px;\n",
        "        }\n",
        "        button {\n",
        "            background: #007BFF;\n",
        "            color: white;\n",
        "            border: none;\n",
        "            padding: 10px;\n",
        "            width: 100%;\n",
        "            border-radius: 5px;\n",
        "            cursor: pointer;\n",
        "        }\n",
        "        button:hover {\n",
        "            background: #0056b3;\n",
        "        }\n",
        "        #response {\n",
        "            margin-top: 15px;\n",
        "            padding: 10px;\n",
        "            border-radius: 5px;\n",
        "            background: #e9ecef;\n",
        "            text-align: left;\n",
        "            white-space: pre-wrap;\n",
        "        }\n",
        "        .labels {\n",
        "            text-align: left;\n",
        "            display: block;\n",
        "            font-weight: bold;\n",
        "            margin-bottom: 5px;\n",
        "        }\n",
        "    </style>\n",
        "    <script>\n",
        "        async function submitForm(event) {\n",
        "            event.preventDefault();\n",
        "\n",
        "            let formData = new FormData(event.target);\n",
        "            let urls = formData.get(\"urls\");\n",
        "            let query = formData.get(\"query\");\n",
        "\n",
        "            let responseDiv = document.getElementById(\"response\");\n",
        "            responseDiv.innerHTML = \"Processing...\";\n",
        "\n",
        "            try {\n",
        "                let response = await fetch(\"/query_documents/\", {\n",
        "                    method: \"POST\",\n",
        "                    headers: { \"Content-Type\": \"application/x-www-form-urlencoded\" },\n",
        "                    body: `urls=${encodeURIComponent(urls)}&query=${encodeURIComponent(query)}`\n",
        "                });\n",
        "\n",
        "                let result = await response.json();\n",
        "                responseDiv.innerHTML = `<strong>Response:</strong><br>${JSON.stringify(result, null, 2)}`;\n",
        "            } catch (error) {\n",
        "                responseDiv.innerHTML = \"Error processing request.\";\n",
        "            }\n",
        "        }\n",
        "    </script>\n",
        "</head>\n",
        "<body>\n",
        "    <div class=\"overlay\"></div>\n",
        "    <div class=\"container\">\n",
        "        <h2>QueryWeb</h2>\n",
        "        <form onsubmit=\"submitForm(event)\">\n",
        "            <label for=\"urls\" class=\"labels\">Enter URLs (comma-separated):</label>\n",
        "            <input type=\"text\" id=\"urls\" name=\"urls\" required>\n",
        "\n",
        "            <label for=\"query\" class=\"labels\">Enter Query:</label>\n",
        "            <textarea id=\"query\" name=\"query\" rows=\"4\" required></textarea>\n",
        "\n",
        "            <button type=\"submit\">Query</button>\n",
        "        </form>\n",
        "\n",
        "        <div id=\"response\"></div>\n",
        "    </div>\n",
        "</body>\n",
        "</html>\n"
      ],
      "metadata": {
        "id": "fa6G9HMTr80R"
      },
      "execution_count": null,
      "outputs": []
    },
    {
      "cell_type": "markdown",
      "source": [
        "# Web Scraping and RAG\n",
        "Importing dependencies for web scraping, fast API, and other libraries. **Ensure before running this cell you have .env file loaded with correct NGROK_AUTHTOKEN**. This snippet contains the main logic for retrieving information from webpage, given the URL/s and saving them in the runtime's storage in folder my_pdfs (Since we are saving them as PDFs to be consumed later.) The fast API has the operation *query_documents* which is executed on submission of our form, which queries the input to our llm and then displays the result."
      ],
      "metadata": {
        "id": "MYoFBAKCxffA"
      }
    },
    {
      "cell_type": "code",
      "execution_count": null,
      "metadata": {
        "collapsed": true,
        "id": "o-SdcXMzF7tH"
      },
      "outputs": [],
      "source": [
        "import requests\n",
        "from bs4 import BeautifulSoup\n",
        "import pdfkit\n",
        "from PyPDF2 import PdfMerger\n",
        "import glob\n",
        "from fastapi import FastAPI, HTTPException, Form\n",
        "from fastapi.responses import HTMLResponse, FileResponse\n",
        "from fastapi.staticfiles import StaticFiles\n",
        "from pydantic import BaseModel\n",
        "from typing import List\n",
        "import os\n",
        "import time\n",
        "import threading\n",
        "from pyngrok import ngrok\n",
        "from dotenv import load_dotenv\n",
        "import nest_asyncio\n",
        "import uvicorn\n",
        "\n",
        "nest_asyncio.apply()\n",
        "load_dotenv()\n",
        "ngrok_token = os.getenv(\"NGROK_AUTHTOKEN\")\n",
        "ngrok.set_auth_token(ngrok_token)\n",
        "\n",
        "\n",
        "save_folder = \"/content/my_pdfs/\"\n",
        "os.makedirs(save_folder, exist_ok=True)\n",
        "\n",
        "pdfkit_config = pdfkit.configuration(wkhtmltopdf=\"/usr/bin/wkhtmltopdf\")\n",
        "\n",
        "class URLQueryInput(BaseModel):\n",
        "    urls: List[str]\n",
        "    query: str\n",
        "\n",
        "def fetch_webpages(urls):\n",
        "    headers = {\"User-Agent\": \"Mozilla/5.0\"}\n",
        "    responses = {}\n",
        "\n",
        "    for url in urls:\n",
        "        try:\n",
        "            response = requests.get(url, headers=headers)\n",
        "            if response.status_code == 200:\n",
        "                responses[url] = response.text\n",
        "            else:\n",
        "                print(f\"Failed to fetch {url}, Status Code:\", response.status_code)\n",
        "                responses[url] = None\n",
        "        except requests.RequestException as e:\n",
        "            print(f\"Error fetching {url}: {e}\")\n",
        "            responses[url] = None\n",
        "\n",
        "    return responses\n",
        "\n",
        "def save_webpages_as_pdfs(urls):\n",
        "    webpages = fetch_webpages(urls)\n",
        "    pdfkit_config = pdfkit.configuration()\n",
        "\n",
        "    for url, html_content in webpages.items():\n",
        "        if html_content:\n",
        "            soup = BeautifulSoup(html_content, \"html.parser\")\n",
        "            main_content = soup.find(\"div\", {\"id\": \"content\"}) or soup.get_text()\n",
        "            filename = os.path.join(save_folder, f\"{url.replace('https://', '').replace('http://', '').replace('/', '_')}.pdf\")\n",
        "            pdfkit.from_string(str(main_content), filename, configuration=pdfkit_config)\n",
        "            print(f\"Saved: {filename}\")\n",
        "        else:\n",
        "            print(f\"No content extracted for {url}.\")\n",
        "app = FastAPI()\n",
        "@app.get(\"/\", response_class=HTMLResponse)\n",
        "def serve_form():\n",
        "    index_path = \"index.html\"\n",
        "\n",
        "    if not os.path.exists(index_path):\n",
        "        return HTMLResponse(content=\"<h1>Error: index.html not found!</h1>\", status_code=404)\n",
        "    try:\n",
        "        with open(index_path, \"r\", encoding=\"utf-8\") as file:\n",
        "            html_content = file.read()\n",
        "            return HTMLResponse(content=html_content)\n",
        "    except Exception as e:\n",
        "        return HTMLResponse(content=f\"<h1>Error reading index.html: {str(e)}</h1>\", status_code=500)\n",
        "\n",
        "\n",
        "@app.post(\"/query_documents/\")\n",
        "def query_documents(urls: str = Form(...), query: str = Form(...)):\n",
        "    try:\n",
        "        url_list = urls.split(\",\")\n",
        "        save_webpages_as_pdfs(url_list)\n",
        "\n",
        "        pdf_files = glob.glob(os.path.join(save_folder, \"*.pdf\"))\n",
        "        print(\"PDF Files Found:\", pdf_files)\n",
        "\n",
        "        documents = SimpleDirectoryReader(input_dir=\"/content/my_pdfs\").load_data()\n",
        "\n",
        "        index = VectorStoreIndex.from_documents(documents)\n",
        "        query_engine = index.as_query_engine()\n",
        "        updated_query = str(query) + 'Ensure answers are only from the sample website being ingested. If you do not have the answer, respond with the following statement encased in triple-double quotes only \"\"\"I could not find the response based on webpage data ingested\"\"\". No need to add the context info or any details. Remove any special characters for negative responses'\n",
        "        response = query_engine.query(updated_query)\n",
        "        print(response)\n",
        "\n",
        "        #Removing the scraped indices before ending execution\n",
        "        for file in glob.glob(\"/content/my_pdfs/*.pdf\"):\n",
        "          os.remove(file)\n",
        "          print(f\"Deleted: {file}\")\n",
        "\n",
        "        return response.response.encode('ascii', 'ignore').decode()\n",
        "\n",
        "    except Exception as e:\n",
        "        raise HTTPException(status_code=500, detail=str(e))\n",
        "\n",
        "\n",
        "def run_fastapi():\n",
        "    uvicorn.run(app, host=\"0.0.0.0\", port=8000)\n",
        "\n",
        "\n",
        "fastapi_thread = threading.Thread(target=run_fastapi)\n",
        "fastapi_thread.start()\n",
        "\n",
        "time.sleep(5)\n",
        "\n",
        "public_url = ngrok.connect(8000).public_url\n",
        "print(f\"FastAPI is running at: {public_url}\")\n"
      ]
    },
    {
      "cell_type": "code",
      "source": [
        "!pkill -f ngrok    #Use only to kill running app, preferably start the runtime again!"
      ],
      "metadata": {
        "id": "h-VLxPTWJPOV",
        "collapsed": true
      },
      "execution_count": 7,
      "outputs": []
    }
  ]
}